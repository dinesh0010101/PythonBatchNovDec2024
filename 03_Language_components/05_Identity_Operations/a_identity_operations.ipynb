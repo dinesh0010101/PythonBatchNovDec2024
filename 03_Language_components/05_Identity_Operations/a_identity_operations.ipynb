{
 "cells": [
  {
   "cell_type": "markdown",
   "metadata": {},
   "source": [
    "\n",
    "## Identity Operations\n",
    "\n",
    "        Object\n",
    "            - value(s)\n",
    "            - type(s)\n",
    "            - address location where it is stored - id()\n",
    "\n",
    "\n",
    "        =  Assignment operator\n",
    "\n",
    "        == Value-level Equivalence  -  ( value and type) check\n",
    "        is object-level Equivalence - (address location, value and type) check\n",
    "\n"
   ]
  },
  {
   "cell_type": "code",
   "execution_count": 1,
   "metadata": {},
   "outputs": [
    {
     "data": {
      "text/plain": [
       "True"
      ]
     },
     "execution_count": 1,
     "metadata": {},
     "output_type": "execute_result"
    }
   ],
   "source": [
    "4 == 4"
   ]
  },
  {
   "cell_type": "code",
   "execution_count": 2,
   "metadata": {},
   "outputs": [
    {
     "data": {
      "text/plain": [
       "True"
      ]
     },
     "execution_count": 2,
     "metadata": {},
     "output_type": "execute_result"
    }
   ],
   "source": [
    "'4' == '4'"
   ]
  },
  {
   "cell_type": "code",
   "execution_count": 3,
   "metadata": {},
   "outputs": [
    {
     "data": {
      "text/plain": [
       "False"
      ]
     },
     "execution_count": 3,
     "metadata": {},
     "output_type": "execute_result"
    }
   ],
   "source": [
    "4 == '4'"
   ]
  },
  {
   "cell_type": "code",
   "execution_count": 4,
   "metadata": {},
   "outputs": [],
   "source": [
    "num1 = 100\n",
    "num2 = 200"
   ]
  },
  {
   "cell_type": "code",
   "execution_count": 5,
   "metadata": {},
   "outputs": [
    {
     "name": "stdout",
     "output_type": "stream",
     "text": [
      "num1 == num2 = False\n",
      "num1 is num2 = False\n",
      "id(num1) = 106290112586760 \t id(num2) =106290112589960\n"
     ]
    }
   ],
   "source": [
    "print(f\"{num1 == num2 = }\")\n",
    "print(f\"{num1 is num2 = }\")\n",
    "print(f\"{id(num1) = } \\t {id(num2) =}\")"
   ]
  },
  {
   "cell_type": "code",
   "execution_count": 6,
   "metadata": {},
   "outputs": [],
   "source": [
    "num1 = 200"
   ]
  },
  {
   "cell_type": "code",
   "execution_count": 7,
   "metadata": {},
   "outputs": [
    {
     "data": {
      "text/plain": [
       "200"
      ]
     },
     "execution_count": 7,
     "metadata": {},
     "output_type": "execute_result"
    }
   ],
   "source": [
    "num1"
   ]
  },
  {
   "cell_type": "code",
   "execution_count": 8,
   "metadata": {},
   "outputs": [
    {
     "data": {
      "text/plain": [
       "200"
      ]
     },
     "execution_count": 8,
     "metadata": {},
     "output_type": "execute_result"
    }
   ],
   "source": [
    "num2"
   ]
  },
  {
   "cell_type": "code",
   "execution_count": 9,
   "metadata": {},
   "outputs": [
    {
     "name": "stdout",
     "output_type": "stream",
     "text": [
      "num1 = 200\n",
      "num2 = 200\n",
      "num1 == num2 = True\n",
      "num1 is num2 = True\n",
      "id(num1) = 106290112589960 \t id(num2) =106290112589960\n"
     ]
    }
   ],
   "source": [
    "print(f\"{num1 = }\")\n",
    "print(f\"{num2 = }\")\n",
    "print(f\"{num1 == num2 = }\")\n",
    "print(f\"{num1 is num2 = }\")\n",
    "print(f\"{id(num1) = } \\t {id(num2) =}\")"
   ]
  },
  {
   "cell_type": "code",
   "execution_count": 10,
   "metadata": {},
   "outputs": [],
   "source": [
    "num3 = 300"
   ]
  },
  {
   "cell_type": "code",
   "execution_count": 11,
   "metadata": {},
   "outputs": [],
   "source": [
    "num4 = 300"
   ]
  },
  {
   "cell_type": "code",
   "execution_count": 12,
   "metadata": {},
   "outputs": [
    {
     "name": "stdout",
     "output_type": "stream",
     "text": [
      "num3 =300 \t num4 =300\n",
      "num3 == num4 = True\n",
      "num3 is num4 = False\n",
      "id(num3) = 135677413717968 \t id(num4) =135677413718256\n"
     ]
    }
   ],
   "source": [
    "print(f\"{num3 =} \\t {num4 =}\")\n",
    "print(f\"{num3 == num4 = }\")\n",
    "print(f\"{num3 is num4 = }\")\n",
    "print(f\"{id(num3) = } \\t {id(num4) =}\")"
   ]
  },
  {
   "cell_type": "code",
   "execution_count": 13,
   "metadata": {},
   "outputs": [
    {
     "name": "stdout",
     "output_type": "stream",
     "text": [
      "num3 =300.33 \t num4 =300.33\n",
      "num3 == num4 = True\n",
      "num3 is num4 = False\n",
      "id(num3) = 135677481237392 \t id(num4) =135677479157424\n"
     ]
    }
   ],
   "source": [
    "num3 = 300.33\n",
    "num4 = 300.33\n",
    "print(f\"{num3 =} \\t {num4 =}\")\n",
    "print(f\"{num3 == num4 = }\")\n",
    "print(f\"{num3 is num4 = }\")\n",
    "print(f\"{id(num3) = } \\t {id(num4) =}\")"
   ]
  },
  {
   "cell_type": "code",
   "execution_count": 14,
   "metadata": {},
   "outputs": [
    {
     "name": "stdout",
     "output_type": "stream",
     "text": [
      "num3 =12.33 \t num4 =12.33\n",
      "num3 == num4 = True\n",
      "num3 is num4 = False\n",
      "id(num3) = 135677479157264 \t id(num4) =135677479157520\n"
     ]
    }
   ],
   "source": [
    "num3 = 12.33\n",
    "num4 = 12.33\n",
    "print(f\"{num3 =} \\t {num4 =}\")\n",
    "print(f\"{num3 == num4 = }\")\n",
    "print(f\"{num3 is num4 = }\")\n",
    "print(f\"{id(num3) = } \\t {id(num4) =}\")"
   ]
  },
  {
   "cell_type": "code",
   "execution_count": 16,
   "metadata": {},
   "outputs": [
    {
     "name": "stdout",
     "output_type": "stream",
     "text": [
      "num3 ='Dinesh' \t num4 ='Dinesh'\n",
      "num3 == num4 = True\n",
      "num3 is num4 = True\n",
      "id(num3) = 135677185541200 \t id(num4) =135677185541200\n"
     ]
    }
   ],
   "source": [
    "num3 = \"Dinesh\"\n",
    "num4 = \"Dinesh\"\n",
    "print(f\"{num3 =} \\t {num4 =}\")\n",
    "print(f\"{num3 == num4 = }\")\n",
    "print(f\"{num3 is num4 = }\")\n",
    "print(f\"{id(num3) = } \\t {id(num4) =}\")"
   ]
  },
  {
   "cell_type": "code",
   "execution_count": 17,
   "metadata": {},
   "outputs": [
    {
     "name": "stdout",
     "output_type": "stream",
     "text": [
      "num3 =[1, 2, 3] \t num4 =[1, 2, 3]\n",
      "num3 == num4 = True\n",
      "num3 is num4 = False\n",
      "id(num3) = 135677185449792 \t id(num4) =135677414672512\n"
     ]
    }
   ],
   "source": [
    "num3 = [1, 2, 3] # mutable\n",
    "num4 = [1, 2, 3]\n",
    "print(f\"{num3 =} \\t {num4 =}\")\n",
    "print(f\"{num3 == num4 = }\")\n",
    "print(f\"{num3 is num4 = }\")\n",
    "print(f\"{id(num3) = } \\t {id(num4) =}\")"
   ]
  },
  {
   "cell_type": "code",
   "execution_count": 18,
   "metadata": {},
   "outputs": [
    {
     "name": "stdout",
     "output_type": "stream",
     "text": [
      "num3 =(1, 2, 3) \t num4 =(1, 2, 3)\n",
      "num3 == num4 = True\n",
      "num3 is num4 = False\n",
      "id(num3) = 135677185452928 \t id(num4) =135677185458112\n"
     ]
    }
   ],
   "source": [
    "num3 = (1, 2, 3)  # immutable\n",
    "num4 = (1, 2, 3)\n",
    "print(f\"{num3 =} \\t {num4 =}\")\n",
    "print(f\"{num3 == num4 = }\")\n",
    "print(f\"{num3 is num4 = }\")\n",
    "print(f\"{id(num3) = } \\t {id(num4) =}\")"
   ]
  },
  {
   "cell_type": "markdown",
   "metadata": {},
   "source": [
    "\n",
    "### Dual Memory management Strategy\n",
    "\n",
    "In Interactive mode,\n",
    "    For integer,\n",
    "        -5 to 256      -> no new object created\n",
    "        outside bounds -> new object is created for each variable\n",
    "\n",
    "    1) Python preallocates small integers in a range of -5 to 256.\n",
    "    \n",
    "    2) This allocation happens during initialization and since we cannot update integers (immutability) these preallocated integers are singletons and are directly referenced instead of reallocating.\n",
    "    \n",
    "    3) This means every time we use/creates a small integer, python instead of reallocating just returns the reference of preallocated one.\n",
    "\n"
   ]
  },
  {
   "cell_type": "code",
   "execution_count": 19,
   "metadata": {},
   "outputs": [],
   "source": [
    "num1 = 255\n",
    "num2 = 255"
   ]
  },
  {
   "cell_type": "code",
   "execution_count": 20,
   "metadata": {},
   "outputs": [
    {
     "data": {
      "text/plain": [
       "True"
      ]
     },
     "execution_count": 20,
     "metadata": {},
     "output_type": "execute_result"
    }
   ],
   "source": [
    "num1 is num2"
   ]
  },
  {
   "cell_type": "code",
   "execution_count": 21,
   "metadata": {},
   "outputs": [
    {
     "data": {
      "text/plain": [
       "(106290112591720, 106290112591720)"
      ]
     },
     "execution_count": 21,
     "metadata": {},
     "output_type": "execute_result"
    }
   ],
   "source": [
    "id(num1), id(num2)"
   ]
  },
  {
   "cell_type": "code",
   "execution_count": 22,
   "metadata": {},
   "outputs": [],
   "source": [
    "num1 = 256\n",
    "num2 = 256"
   ]
  },
  {
   "cell_type": "code",
   "execution_count": 23,
   "metadata": {},
   "outputs": [
    {
     "data": {
      "text/plain": [
       "True"
      ]
     },
     "execution_count": 23,
     "metadata": {},
     "output_type": "execute_result"
    }
   ],
   "source": [
    "num1 is num2"
   ]
  },
  {
   "cell_type": "code",
   "execution_count": 24,
   "metadata": {},
   "outputs": [
    {
     "data": {
      "text/plain": [
       "(106290112591752, 106290112591752)"
      ]
     },
     "execution_count": 24,
     "metadata": {},
     "output_type": "execute_result"
    }
   ],
   "source": [
    "id(num1), id(num2)"
   ]
  },
  {
   "cell_type": "code",
   "execution_count": 25,
   "metadata": {},
   "outputs": [],
   "source": [
    "num1 = 257\n",
    "num2 = 257"
   ]
  },
  {
   "cell_type": "code",
   "execution_count": 26,
   "metadata": {},
   "outputs": [
    {
     "data": {
      "text/plain": [
       "False"
      ]
     },
     "execution_count": 26,
     "metadata": {},
     "output_type": "execute_result"
    }
   ],
   "source": [
    "num1 is num2   # breakaway"
   ]
  },
  {
   "cell_type": "code",
   "execution_count": 27,
   "metadata": {},
   "outputs": [
    {
     "data": {
      "text/plain": [
       "(135677413718448, 135677413718320)"
      ]
     },
     "execution_count": 27,
     "metadata": {},
     "output_type": "execute_result"
    }
   ],
   "source": [
    "id(num1), id(num2)"
   ]
  },
  {
   "cell_type": "code",
   "execution_count": 28,
   "metadata": {},
   "outputs": [
    {
     "name": "stdout",
     "output_type": "stream",
     "text": [
      "True\n",
      "106290112583400 106290112583400\n"
     ]
    }
   ],
   "source": [
    "num1 = -5\n",
    "num2 = -5\n",
    "\n",
    "print(num1 is num2)\n",
    "print(id(num1), id(num2))"
   ]
  },
  {
   "cell_type": "code",
   "execution_count": 29,
   "metadata": {},
   "outputs": [
    {
     "name": "stdout",
     "output_type": "stream",
     "text": [
      "False\n",
      "135677413718416 135677413718320\n"
     ]
    }
   ],
   "source": [
    "num1 = -6\n",
    "num2 = -6\n",
    "\n",
    "print(num1 is num2)\n",
    "print(id(num1), id(num2))"
   ]
  },
  {
   "cell_type": "code",
   "execution_count": null,
   "metadata": {},
   "outputs": [],
   "source": []
  }
 ],
 "metadata": {
  "kernelspec": {
   "display_name": "Python 3",
   "language": "python",
   "name": "python3"
  },
  "language_info": {
   "codemirror_mode": {
    "name": "ipython",
    "version": 3
   },
   "file_extension": ".py",
   "mimetype": "text/x-python",
   "name": "python",
   "nbconvert_exporter": "python",
   "pygments_lexer": "ipython3",
   "version": "3.12.1"
  }
 },
 "nbformat": 4,
 "nbformat_minor": 2
}
